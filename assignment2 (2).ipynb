{
 "cells": [
  {
   "cell_type": "code",
   "execution_count": 1,
   "id": "e8ec4861-0cbf-41b9-8dad-7d180dc634e5",
   "metadata": {},
   "outputs": [],
   "source": [
    "#Q1. How do you comment code in Python? What are the different types of comments?"
   ]
  },
  {
   "cell_type": "code",
   "execution_count": 2,
   "id": "250f8b4b-94a4-4b41-99ae-101bfe437c42",
   "metadata": {},
   "outputs": [],
   "source": [
    "#ANSWER"
   ]
  },
  {
   "cell_type": "code",
   "execution_count": 3,
   "id": "fb91e451-e97e-46a5-ac3d-15d3dff9f4a7",
   "metadata": {},
   "outputs": [],
   "source": [
    "# Comments in Python are identified with a hash symbol, #, and extend to the end of the line. Also by using code \"______\".\n",
    "#example:-"
   ]
  },
  {
   "cell_type": "code",
   "execution_count": 4,
   "id": "ca934076-7c29-41b8-a096-fcbe95d685e0",
   "metadata": {},
   "outputs": [
    {
     "data": {
      "text/plain": [
       "'This is my first class for programming\\ni have leant variable declaration , data type , string , int , boolean , complex number \\ni have seen some example of string slicing and indexing \\ni have gone though some of the string inbuilt function \\napart from that i am trying to practice in my system \\nbut some of us in our calss are not executing code and still they are answering which is bad '"
      ]
     },
     "execution_count": 4,
     "metadata": {},
     "output_type": "execute_result"
    }
   ],
   "source": [
    "\"\"\"This is my first class for programming\n",
    "i have leant variable declaration , data type , string , int , boolean , complex number \n",
    "i have seen some example of string slicing and indexing \n",
    "i have gone though some of the string inbuilt function \n",
    "apart from that i am trying to practice in my system \n",
    "but some of us in our calss are not executing code and still they are answering which is bad \"\"\""
   ]
  },
  {
   "cell_type": "code",
   "execution_count": 5,
   "id": "e0dea063-3d69-4348-858a-d2de41855de6",
   "metadata": {},
   "outputs": [],
   "source": [
    "# Different types of comments:-\n",
    "#1. Single-Line Comments :- using \"#\" code before start of line\n",
    "#2.Multi-line comments: If you want to write comments that span multiple lines, you can enclose them within triple quotes (\"\"\" or ''')."
   ]
  },
  {
   "cell_type": "code",
   "execution_count": 6,
   "id": "5c870000-5a55-4547-94f0-ffdb19a41849",
   "metadata": {},
   "outputs": [],
   "source": [
    "#Q2.What are variables in Python? How do you declare and assign values to variables?"
   ]
  },
  {
   "cell_type": "code",
   "execution_count": 7,
   "id": "898457c7-abfb-4771-9f7b-dc3df5717c66",
   "metadata": {},
   "outputs": [],
   "source": [
    "#Answer"
   ]
  },
  {
   "cell_type": "code",
   "execution_count": 32,
   "id": "3a10fd73-65b7-4370-ae6d-72054cc3fcbc",
   "metadata": {},
   "outputs": [],
   "source": [
    "# int , str , list, tuples , set ,assingement variable,bool , float ,dict, complex.\n"
   ]
  },
  {
   "cell_type": "code",
   "execution_count": 9,
   "id": "9f728f7d-21fb-4f05-88a0-3214e9341a45",
   "metadata": {},
   "outputs": [],
   "source": [
    "a = 2"
   ]
  },
  {
   "cell_type": "code",
   "execution_count": 10,
   "id": "ee3c8635-86a6-4fc9-bf94-b04e5e74bcd9",
   "metadata": {},
   "outputs": [
    {
     "data": {
      "text/plain": [
       "int"
      ]
     },
     "execution_count": 10,
     "metadata": {},
     "output_type": "execute_result"
    }
   ],
   "source": [
    "type(a)"
   ]
  },
  {
   "cell_type": "code",
   "execution_count": 11,
   "id": "8c426a42-01cb-462f-a061-5d39362bfb4e",
   "metadata": {},
   "outputs": [],
   "source": [
    "b = \"abhi\""
   ]
  },
  {
   "cell_type": "code",
   "execution_count": 12,
   "id": "aa49f8e0-e4b3-4239-8256-b7ccafca93e5",
   "metadata": {},
   "outputs": [
    {
     "data": {
      "text/plain": [
       "str"
      ]
     },
     "execution_count": 12,
     "metadata": {},
     "output_type": "execute_result"
    }
   ],
   "source": [
    "type(b)"
   ]
  },
  {
   "cell_type": "code",
   "execution_count": 13,
   "id": "8a49c379-b658-492f-b36d-2af928ab39ba",
   "metadata": {},
   "outputs": [],
   "source": [
    "c= [2,3,5,'anji',58.256]"
   ]
  },
  {
   "cell_type": "code",
   "execution_count": 14,
   "id": "ebb1e39d-228d-4b7b-98fe-579e5acdb7e9",
   "metadata": {},
   "outputs": [
    {
     "data": {
      "text/plain": [
       "list"
      ]
     },
     "execution_count": 14,
     "metadata": {},
     "output_type": "execute_result"
    }
   ],
   "source": [
    "type(c)"
   ]
  },
  {
   "cell_type": "code",
   "execution_count": 17,
   "id": "8a34608f-e2a8-4b53-bb41-6afbf8ace279",
   "metadata": {},
   "outputs": [],
   "source": [
    "d= (2,3,4,5,6+5j,[2,58,56,57,45.36],True,'abhi')"
   ]
  },
  {
   "cell_type": "code",
   "execution_count": 18,
   "id": "d2f1b9d9-6615-47a1-a245-35122831614f",
   "metadata": {},
   "outputs": [
    {
     "data": {
      "text/plain": [
       "tuple"
      ]
     },
     "execution_count": 18,
     "metadata": {},
     "output_type": "execute_result"
    }
   ],
   "source": [
    "type(d)"
   ]
  },
  {
   "cell_type": "code",
   "execution_count": 21,
   "id": "01ac8793-a116-4263-a637-948a94cd381e",
   "metadata": {},
   "outputs": [],
   "source": [
    "e= {2,3,4,5,5,3,'pwskills',52.36,(2,5.9,7+5j,False)}"
   ]
  },
  {
   "cell_type": "code",
   "execution_count": 22,
   "id": "a1ec7789-9546-42c8-b3f9-f141996fb1aa",
   "metadata": {},
   "outputs": [
    {
     "data": {
      "text/plain": [
       "set"
      ]
     },
     "execution_count": 22,
     "metadata": {},
     "output_type": "execute_result"
    }
   ],
   "source": [
    "type(e)"
   ]
  },
  {
   "cell_type": "code",
   "execution_count": 24,
   "id": "12bff094-b560-47ac-b380-b7b06125f6b2",
   "metadata": {},
   "outputs": [],
   "source": [
    "f=True"
   ]
  },
  {
   "cell_type": "code",
   "execution_count": 25,
   "id": "95cecc28-b496-41cc-ad5a-2b13f79b165f",
   "metadata": {},
   "outputs": [
    {
     "data": {
      "text/plain": [
       "bool"
      ]
     },
     "execution_count": 25,
     "metadata": {},
     "output_type": "execute_result"
    }
   ],
   "source": [
    "type(f)"
   ]
  },
  {
   "cell_type": "code",
   "execution_count": 26,
   "id": "d54d1ffa-5147-4923-b24f-8c75a6f6e62d",
   "metadata": {},
   "outputs": [],
   "source": [
    "g= 58.369"
   ]
  },
  {
   "cell_type": "code",
   "execution_count": 27,
   "id": "02f3a655-7cc1-49d3-bde0-fc2cd6422ddb",
   "metadata": {},
   "outputs": [
    {
     "data": {
      "text/plain": [
       "float"
      ]
     },
     "execution_count": 27,
     "metadata": {},
     "output_type": "execute_result"
    }
   ],
   "source": [
    "type(g)"
   ]
  },
  {
   "cell_type": "code",
   "execution_count": 28,
   "id": "237cc779-d389-4993-a4f1-c22bf2489ccc",
   "metadata": {},
   "outputs": [],
   "source": [
    "h ={}"
   ]
  },
  {
   "cell_type": "code",
   "execution_count": 29,
   "id": "2615c1cd-9eb5-4749-a453-51a96f05b6ee",
   "metadata": {},
   "outputs": [
    {
     "data": {
      "text/plain": [
       "dict"
      ]
     },
     "execution_count": 29,
     "metadata": {},
     "output_type": "execute_result"
    }
   ],
   "source": [
    "type(h)"
   ]
  },
  {
   "cell_type": "code",
   "execution_count": 30,
   "id": "4ea426c9-5c1d-4346-afe1-3f02b7751301",
   "metadata": {},
   "outputs": [],
   "source": [
    "i = 5+5j"
   ]
  },
  {
   "cell_type": "code",
   "execution_count": 31,
   "id": "e2d43f8e-aaba-4e6b-8785-8051844d5f32",
   "metadata": {},
   "outputs": [
    {
     "data": {
      "text/plain": [
       "complex"
      ]
     },
     "execution_count": 31,
     "metadata": {},
     "output_type": "execute_result"
    }
   ],
   "source": [
    "type(i)"
   ]
  },
  {
   "cell_type": "code",
   "execution_count": 33,
   "id": "96cfc6f5-9bc4-49e2-922a-02c4d7c13c53",
   "metadata": {},
   "outputs": [],
   "source": [
    "#Q3 How do you convert one data type to another in Python?"
   ]
  },
  {
   "cell_type": "code",
   "execution_count": 53,
   "id": "fb1fe9d9-ec6a-49ac-b244-d8c7ae8be2ee",
   "metadata": {},
   "outputs": [],
   "source": [
    "#Python defines type conversion functions like int(), float(), str() to directly convert one data type into another. \n",
    "#This type of conversion is also called typecasting because the user casts (change) the data type of the objects. \n",
    "#This function converts any data type into integer"
   ]
  },
  {
   "cell_type": "code",
   "execution_count": 40,
   "id": "b8b2f339-bc5f-4e8a-af71-0f1276c201dd",
   "metadata": {},
   "outputs": [
    {
     "data": {
      "text/plain": [
       "3"
      ]
     },
     "execution_count": 40,
     "metadata": {},
     "output_type": "execute_result"
    }
   ],
   "source": [
    "int(3.14)"
   ]
  },
  {
   "cell_type": "code",
   "execution_count": 42,
   "id": "ebf22fd1-30a3-42dc-b9fe-f9632497fb74",
   "metadata": {},
   "outputs": [
    {
     "data": {
      "text/plain": [
       "2.0"
      ]
     },
     "execution_count": 42,
     "metadata": {},
     "output_type": "execute_result"
    }
   ],
   "source": [
    "float(2)"
   ]
  },
  {
   "cell_type": "code",
   "execution_count": 54,
   "id": "d87d0f5c-ec20-47d0-a0a6-5955f24208c8",
   "metadata": {},
   "outputs": [],
   "source": [
    "# Q4.How do you write and execute a Python script from the command line?"
   ]
  },
  {
   "cell_type": "code",
   "execution_count": 55,
   "id": "dd6f489f-b1a3-470e-82d0-2d46cd2c73ac",
   "metadata": {},
   "outputs": [],
   "source": [
    "#answer:- 1. use '#\" to write a command and for code use only code or function.\n",
    "# 2. the press SHIFT+ENTER to execute it."
   ]
  },
  {
   "cell_type": "code",
   "execution_count": 56,
   "id": "b31a9dd2-52c2-4090-8f6d-598c1d852265",
   "metadata": {},
   "outputs": [],
   "source": [
    "#Q5. Given a list my_list = [1, 2, 3, 4, 5], write the code to slice the list and obtain the sub-list [2, 3]."
   ]
  },
  {
   "cell_type": "code",
   "execution_count": 57,
   "id": "b6c5d000-62f5-46f6-9fac-98273d96760f",
   "metadata": {},
   "outputs": [],
   "source": [
    "my_list = [1,2,3,4,5]"
   ]
  },
  {
   "cell_type": "code",
   "execution_count": 59,
   "id": "89348e1c-fda7-45de-a4e8-c6ab96732d12",
   "metadata": {},
   "outputs": [
    {
     "data": {
      "text/plain": [
       "[2, 3]"
      ]
     },
     "execution_count": 59,
     "metadata": {},
     "output_type": "execute_result"
    }
   ],
   "source": [
    "my_list[1:3:1]"
   ]
  },
  {
   "cell_type": "code",
   "execution_count": 60,
   "id": "44540fa3-8f7b-4355-92b7-c76d25ca5b8d",
   "metadata": {},
   "outputs": [],
   "source": [
    "#Q6. What is a complex number in mathematics, and how is it represented in Python?"
   ]
  },
  {
   "cell_type": "code",
   "execution_count": 61,
   "id": "272c3b2c-b12b-434d-b515-cdc9c79b66c2",
   "metadata": {},
   "outputs": [],
   "source": [
    "a= 5+6j"
   ]
  },
  {
   "cell_type": "code",
   "execution_count": 63,
   "id": "3851fc30-3bbe-4518-a92d-9eab4be6b64b",
   "metadata": {},
   "outputs": [
    {
     "data": {
      "text/plain": [
       "complex"
      ]
     },
     "execution_count": 63,
     "metadata": {},
     "output_type": "execute_result"
    }
   ],
   "source": [
    "type(a)"
   ]
  },
  {
   "cell_type": "code",
   "execution_count": 64,
   "id": "bb1cb275-82a6-4c50-8a58-a145e9ae0aae",
   "metadata": {},
   "outputs": [
    {
     "data": {
      "text/plain": [
       "5.0"
      ]
     },
     "execution_count": 64,
     "metadata": {},
     "output_type": "execute_result"
    }
   ],
   "source": [
    "a.real"
   ]
  },
  {
   "cell_type": "code",
   "execution_count": 65,
   "id": "26e2ba67-fe1f-45dc-813d-d7e3e08886ae",
   "metadata": {},
   "outputs": [
    {
     "data": {
      "text/plain": [
       "6.0"
      ]
     },
     "execution_count": 65,
     "metadata": {},
     "output_type": "execute_result"
    }
   ],
   "source": [
    "a.imag"
   ]
  },
  {
   "cell_type": "code",
   "execution_count": 66,
   "id": "884cfe3a-43ab-423c-bbff-544b65724463",
   "metadata": {},
   "outputs": [
    {
     "data": {
      "text/plain": [
       "<function complex.conjugate()>"
      ]
     },
     "execution_count": 66,
     "metadata": {},
     "output_type": "execute_result"
    }
   ],
   "source": [
    "a.conjugate"
   ]
  },
  {
   "cell_type": "code",
   "execution_count": 67,
   "id": "7cc5a44e-712d-4116-8501-939e3a88aae4",
   "metadata": {},
   "outputs": [],
   "source": [
    "#Q7. What is the correct way to declare a variable named age and assign the value 25 to it?"
   ]
  },
  {
   "cell_type": "code",
   "execution_count": 68,
   "id": "bec791fe-1590-495a-bd5e-e2252e860498",
   "metadata": {},
   "outputs": [],
   "source": [
    "age= 25"
   ]
  },
  {
   "cell_type": "code",
   "execution_count": 69,
   "id": "8b2ba8ad-1926-4e78-b4c2-c8c53ddba611",
   "metadata": {},
   "outputs": [
    {
     "data": {
      "text/plain": [
       "int"
      ]
     },
     "execution_count": 69,
     "metadata": {},
     "output_type": "execute_result"
    }
   ],
   "source": [
    "type(age)"
   ]
  },
  {
   "cell_type": "code",
   "execution_count": 71,
   "id": "91b9c8a0-63b3-4679-a4c2-522e89715344",
   "metadata": {},
   "outputs": [],
   "source": [
    "#Q8. Declare a variable named price and assign the value 9.99 to it. What data type does this variable belong to?"
   ]
  },
  {
   "cell_type": "code",
   "execution_count": 72,
   "id": "abf5e146-73f6-4e3d-a599-41ab81b24d97",
   "metadata": {},
   "outputs": [],
   "source": [
    "price= 9.99"
   ]
  },
  {
   "cell_type": "code",
   "execution_count": 73,
   "id": "c4741058-01e6-44b7-a61f-f49398485997",
   "metadata": {},
   "outputs": [
    {
     "data": {
      "text/plain": [
       "float"
      ]
     },
     "execution_count": 73,
     "metadata": {},
     "output_type": "execute_result"
    }
   ],
   "source": [
    "type(9.99)"
   ]
  },
  {
   "cell_type": "code",
   "execution_count": 74,
   "id": "486301b5-4b37-4157-99fd-3c3b96f34ba5",
   "metadata": {},
   "outputs": [],
   "source": [
    "#Q9. Create a variable named name and assign your full name to it as a string. How would you print the value of this variable?"
   ]
  },
  {
   "cell_type": "code",
   "execution_count": 81,
   "id": "15080b15-a4e5-42c0-9c27-4964405ea90e",
   "metadata": {},
   "outputs": [
    {
     "name": "stdout",
     "output_type": "stream",
     "text": [
      "abhishek kumar gautam\n"
     ]
    }
   ],
   "source": [
    "a = 'abhishek kumar gautam'\n",
    "print(a)"
   ]
  },
  {
   "cell_type": "code",
   "execution_count": 82,
   "id": "7978e068-b5ff-4e71-96ce-439817756599",
   "metadata": {},
   "outputs": [
    {
     "data": {
      "text/plain": [
       "str"
      ]
     },
     "execution_count": 82,
     "metadata": {},
     "output_type": "execute_result"
    }
   ],
   "source": [
    "type(a)"
   ]
  },
  {
   "cell_type": "code",
   "execution_count": 83,
   "id": "bcab3e68-3689-4b89-979f-addb6d349b59",
   "metadata": {},
   "outputs": [
    {
     "name": "stdin",
     "output_type": "stream",
     "text": [
      "ABHISHEK KUAMR GAUTAM 25\n"
     ]
    }
   ],
   "source": [
    "a =int(input('ABHISHEK KUAMR GAUTAM'))"
   ]
  },
  {
   "cell_type": "code",
   "execution_count": 84,
   "id": "68118184-7ea1-429e-a516-abc6a94712e7",
   "metadata": {},
   "outputs": [
    {
     "data": {
      "text/plain": [
       "int"
      ]
     },
     "execution_count": 84,
     "metadata": {},
     "output_type": "execute_result"
    }
   ],
   "source": [
    "type(a)"
   ]
  },
  {
   "cell_type": "code",
   "execution_count": 85,
   "id": "1afeae3d-b03a-49f4-a387-a854d24fa4af",
   "metadata": {},
   "outputs": [],
   "source": [
    "#Q10. Given the string \"Hello, World!\", extract the substring \"World\"."
   ]
  },
  {
   "cell_type": "code",
   "execution_count": 92,
   "id": "14287392-e0cf-4412-a11d-aa2411ecad71",
   "metadata": {},
   "outputs": [],
   "source": [
    "str=\"Hello, world\"\n",
    "\n"
   ]
  },
  {
   "cell_type": "code",
   "execution_count": 91,
   "id": "88afe328-df53-4996-8334-aabb7d4fc050",
   "metadata": {},
   "outputs": [
    {
     "data": {
      "text/plain": [
       "str"
      ]
     },
     "execution_count": 91,
     "metadata": {},
     "output_type": "execute_result"
    }
   ],
   "source": [
    "type(a)"
   ]
  },
  {
   "cell_type": "code",
   "execution_count": 95,
   "id": "6b70e983-df69-4368-821d-86bc17ff6549",
   "metadata": {},
   "outputs": [
    {
     "data": {
      "text/plain": [
       "' world'"
      ]
     },
     "execution_count": 95,
     "metadata": {},
     "output_type": "execute_result"
    }
   ],
   "source": [
    "a[6:12:1]"
   ]
  },
  {
   "cell_type": "code",
   "execution_count": 96,
   "id": "9be11752-31c5-43c6-ac15-14aa45074821",
   "metadata": {},
   "outputs": [],
   "source": [
    "#Q11. Create a variable named \"is_student\" and assign it a boolean value indicating whether you are currently a student or not."
   ]
  },
  {
   "cell_type": "code",
   "execution_count": 125,
   "id": "56a29a76-af03-4817-ac7b-aaef7b47050e",
   "metadata": {},
   "outputs": [
    {
     "name": "stdout",
     "output_type": "stream",
     "text": [
      "student\n"
     ]
    }
   ],
   "source": [
    "is_student = True\n",
    "is_student = False\n",
    "print (\"student\")"
   ]
  },
  {
   "cell_type": "code",
   "execution_count": null,
   "id": "7db1a793-1cdf-46e7-81f2-24136271f9e1",
   "metadata": {},
   "outputs": [],
   "source": []
  }
 ],
 "metadata": {
  "kernelspec": {
   "display_name": "Python 3 (ipykernel)",
   "language": "python",
   "name": "python3"
  },
  "language_info": {
   "codemirror_mode": {
    "name": "ipython",
    "version": 3
   },
   "file_extension": ".py",
   "mimetype": "text/x-python",
   "name": "python",
   "nbconvert_exporter": "python",
   "pygments_lexer": "ipython3",
   "version": "3.10.8"
  }
 },
 "nbformat": 4,
 "nbformat_minor": 5
}
